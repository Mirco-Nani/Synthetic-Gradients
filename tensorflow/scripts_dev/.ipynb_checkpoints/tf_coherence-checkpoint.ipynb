{
 "cells": [
  {
   "cell_type": "code",
   "execution_count": 2,
   "metadata": {
    "collapsed": true
   },
   "outputs": [],
   "source": [
    "from __future__ import absolute_import\n",
    "from __future__ import division\n",
    "from __future__ import print_function\n",
    "\n",
    "import math\n",
    "import random\n",
    "\n",
    "import argparse\n",
    "import os.path\n",
    "import sys\n",
    "import time\n",
    "import numpy as np\n",
    "\n",
    "from six.moves import xrange  # pylint: disable=redefined-builtin\n",
    "import tensorflow as tf\n",
    "\n",
    "from tensorflow.examples.tutorials.mnist import input_data\n",
    "#from tensorflow.examples.tutorials.mnist import mnist"
   ]
  },
  {
   "cell_type": "code",
   "execution_count": null,
   "metadata": {
    "collapsed": true
   },
   "outputs": [],
   "source": [
    "with tf.Graph().as_default():\n",
    "    input_placeholder = tf.placeholder(tf.float32, shape=(128,256), name=\"input\")\n",
    "    weights = tf.Variable(tf.truncated_normal([256, 64], name='weights'))\n",
    "    biases = tf.Variable(tf.truncated_normal([64], name='biases'))\n",
    "    logits = tf.matmul(input_placeholder,weights) + biases\n",
    "    \n",
    "    compare_placeholder1 = tf.placeholder(tf.float32, shape=logits.get_shape().as_list(), name=\"compare_placeholder1\")\n",
    "    compare_placeholder2 = tf.placeholder(tf.float32, shape=logits.get_shape().as_list(), name=\"compare_placeholder2\")\n",
    "    \n",
    "    with tf.Session() as sess:\n",
    "        sess.run(tf.global_variables_initializer())\n",
    "        \n",
    "        np.random.rand(128,256)"
   ]
  }
 ],
 "metadata": {
  "kernelspec": {
   "display_name": "Python 2",
   "language": "python",
   "name": "python2"
  },
  "language_info": {
   "codemirror_mode": {
    "name": "ipython",
    "version": 2
   },
   "file_extension": ".py",
   "mimetype": "text/x-python",
   "name": "python",
   "nbconvert_exporter": "python",
   "pygments_lexer": "ipython2",
   "version": "2.7.12"
  }
 },
 "nbformat": 4,
 "nbformat_minor": 2
}
