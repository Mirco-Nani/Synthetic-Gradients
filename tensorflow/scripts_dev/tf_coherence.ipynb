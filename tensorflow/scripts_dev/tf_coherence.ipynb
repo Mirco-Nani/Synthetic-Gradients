{
 "cells": [
  {
   "cell_type": "code",
   "execution_count": 2,
   "metadata": {
    "collapsed": true
   },
   "outputs": [],
   "source": [
    "from __future__ import absolute_import\n",
    "from __future__ import division\n",
    "from __future__ import print_function\n",
    "\n",
    "import math\n",
    "import random\n",
    "\n",
    "import argparse\n",
    "import os.path\n",
    "import sys\n",
    "import time\n",
    "import numpy as np\n",
    "\n",
    "from six.moves import xrange  # pylint: disable=redefined-builtin\n",
    "import tensorflow as tf\n",
    "\n",
    "from tensorflow.examples.tutorials.mnist import input_data\n",
    "#from tensorflow.examples.tutorials.mnist import mnist"
   ]
  },
  {
   "cell_type": "code",
   "execution_count": 5,
   "metadata": {
    "collapsed": false
   },
   "outputs": [
    {
     "name": "stdout",
     "output_type": "stream",
     "text": [
      "[[ True  True  True ...,  True  True  True]\n",
      " [ True  True  True ...,  True  True  True]\n",
      " [ True  True  True ...,  True  True  True]\n",
      " ..., \n",
      " [ True  True  True ...,  True  True  True]\n",
      " [ True  True  True ...,  True  True  True]\n",
      " [ True  True  True ...,  True  True  True]]\n",
      "True\n"
     ]
    }
   ],
   "source": [
    "with tf.Graph().as_default():\n",
    "    input_placeholder = tf.placeholder(tf.float32, shape=(128,256), name=\"input\")\n",
    "    label_placeholder = tf.placeholder(tf.float32, shape=(64), name=\"label\")\n",
    "    \n",
    "    weights = tf.Variable(tf.truncated_normal([256, 64], name='weights'))\n",
    "    biases = tf.Variable(tf.truncated_normal([64], name='biases'))\n",
    "    logits = tf.matmul(input_placeholder,weights) + biases\n",
    "    \n",
    "    optimizer = tf.train.GradientDescentOptimizer(0.01)\n",
    "    loss = tf.sqrt( tf.reduce_sum(tf.square(tf.subtract(logits,label_placeholder))))\n",
    "    optimizer.minimize(loss)\n",
    "    \n",
    "    compare_placeholder1 = tf.placeholder(tf.float32, shape=logits.get_shape().as_list(), name=\"compare_placeholder1\")\n",
    "    compare_placeholder2 = tf.placeholder(tf.float32, shape=logits.get_shape().as_list(), name=\"compare_placeholder2\")\n",
    "    \n",
    "    compare_result = tf.equal(compare_placeholder1, compare_placeholder2)\n",
    "    \n",
    "    with tf.Session() as sess:\n",
    "        sess.run(tf.global_variables_initializer())\n",
    "        \n",
    "        net_in = np.random.rand(128,256)\n",
    "        net_out1 = sess.run(logits, feed_dict={input_placeholder : net_in})\n",
    "        net_out2 = sess.run(logits, feed_dict={input_placeholder : net_in})\n",
    "        \n",
    "        compare_out = sess.run(compare_result, feed_dict={compare_placeholder1:net_out1, compare_placeholder2:net_out2})\n",
    "        \n",
    "        print(compare_out)\n",
    "        print(np.asarray(compare_out).all())\n",
    "        "
   ]
  },
  {
   "cell_type": "code",
   "execution_count": null,
   "metadata": {
    "collapsed": true
   },
   "outputs": [],
   "source": []
  }
 ],
 "metadata": {
  "kernelspec": {
   "display_name": "Python 2",
   "language": "python",
   "name": "python2"
  },
  "language_info": {
   "codemirror_mode": {
    "name": "ipython",
    "version": 2
   },
   "file_extension": ".py",
   "mimetype": "text/x-python",
   "name": "python",
   "nbconvert_exporter": "python",
   "pygments_lexer": "ipython2",
   "version": "2.7.12"
  }
 },
 "nbformat": 4,
 "nbformat_minor": 2
}
